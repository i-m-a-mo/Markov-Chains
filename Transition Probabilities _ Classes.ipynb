{
 "cells": [
  {
   "cell_type": "code",
   "execution_count": 60,
   "metadata": {},
   "outputs": [],
   "source": [
    "import pandas as pd\n",
    "import matplotlib.pyplot as plt\n",
    "import seaborn as sns\n",
    "import numpy as np\n",
    "import datetime\n",
    "plt.rcParams['figure.figsize'] = (12,6)\n",
    "\n",
    "import warnings\n",
    "warnings.filterwarnings('ignore')"
   ]
  },
  {
   "cell_type": "markdown",
   "metadata": {},
   "source": [
    "---\n",
    "# Get and manipulate the data\n"
   ]
  },
  {
   "cell_type": "code",
   "execution_count": 33,
   "metadata": {},
   "outputs": [
    {
     "data": {
      "text/html": [
       "<div>\n",
       "<style scoped>\n",
       "    .dataframe tbody tr th:only-of-type {\n",
       "        vertical-align: middle;\n",
       "    }\n",
       "\n",
       "    .dataframe tbody tr th {\n",
       "        vertical-align: top;\n",
       "    }\n",
       "\n",
       "    .dataframe thead th {\n",
       "        text-align: right;\n",
       "    }\n",
       "</style>\n",
       "<table border=\"1\" class=\"dataframe\">\n",
       "  <thead>\n",
       "    <tr style=\"text-align: right;\">\n",
       "      <th></th>\n",
       "      <th>customer_no</th>\n",
       "      <th>location</th>\n",
       "      <th>day</th>\n",
       "      <th>hour</th>\n",
       "      <th>location_after</th>\n",
       "    </tr>\n",
       "    <tr>\n",
       "      <th>timestamp</th>\n",
       "      <th></th>\n",
       "      <th></th>\n",
       "      <th></th>\n",
       "      <th></th>\n",
       "      <th></th>\n",
       "    </tr>\n",
       "  </thead>\n",
       "  <tbody>\n",
       "    <tr>\n",
       "      <th>2019-09-02 07:03:00</th>\n",
       "      <td>1</td>\n",
       "      <td>dairy</td>\n",
       "      <td>Monday</td>\n",
       "      <td>7</td>\n",
       "      <td>dairy</td>\n",
       "    </tr>\n",
       "    <tr>\n",
       "      <th>2019-09-02 07:04:00</th>\n",
       "      <td>1</td>\n",
       "      <td>dairy</td>\n",
       "      <td>Monday</td>\n",
       "      <td>7</td>\n",
       "      <td>checkout</td>\n",
       "    </tr>\n",
       "    <tr>\n",
       "      <th>2019-09-02 07:05:00</th>\n",
       "      <td>1</td>\n",
       "      <td>checkout</td>\n",
       "      <td>Monday</td>\n",
       "      <td>7</td>\n",
       "      <td>checkout</td>\n",
       "    </tr>\n",
       "    <tr>\n",
       "      <th>2019-09-02 07:03:00</th>\n",
       "      <td>2</td>\n",
       "      <td>dairy</td>\n",
       "      <td>Monday</td>\n",
       "      <td>7</td>\n",
       "      <td>dairy</td>\n",
       "    </tr>\n",
       "    <tr>\n",
       "      <th>2019-09-02 07:04:00</th>\n",
       "      <td>2</td>\n",
       "      <td>dairy</td>\n",
       "      <td>Monday</td>\n",
       "      <td>7</td>\n",
       "      <td>dairy</td>\n",
       "    </tr>\n",
       "    <tr>\n",
       "      <th>...</th>\n",
       "      <td>...</td>\n",
       "      <td>...</td>\n",
       "      <td>...</td>\n",
       "      <td>...</td>\n",
       "      <td>...</td>\n",
       "    </tr>\n",
       "    <tr>\n",
       "      <th>2019-09-06 21:48:00</th>\n",
       "      <td>7443</td>\n",
       "      <td>dairy</td>\n",
       "      <td>Friday</td>\n",
       "      <td>21</td>\n",
       "      <td>dairy</td>\n",
       "    </tr>\n",
       "    <tr>\n",
       "      <th>2019-09-06 21:49:00</th>\n",
       "      <td>7443</td>\n",
       "      <td>dairy</td>\n",
       "      <td>Friday</td>\n",
       "      <td>21</td>\n",
       "      <td>checkout</td>\n",
       "    </tr>\n",
       "    <tr>\n",
       "      <th>2019-09-06 21:50:00</th>\n",
       "      <td>7443</td>\n",
       "      <td>checkout</td>\n",
       "      <td>Friday</td>\n",
       "      <td>21</td>\n",
       "      <td>checkout</td>\n",
       "    </tr>\n",
       "    <tr>\n",
       "      <th>2019-09-06 21:50:00</th>\n",
       "      <td>7444</td>\n",
       "      <td>drinks</td>\n",
       "      <td>Friday</td>\n",
       "      <td>21</td>\n",
       "      <td>spices</td>\n",
       "    </tr>\n",
       "    <tr>\n",
       "      <th>2019-09-06 21:50:00</th>\n",
       "      <td>7445</td>\n",
       "      <td>spices</td>\n",
       "      <td>Friday</td>\n",
       "      <td>21</td>\n",
       "      <td>NaN</td>\n",
       "    </tr>\n",
       "  </tbody>\n",
       "</table>\n",
       "<p>53903 rows × 5 columns</p>\n",
       "</div>"
      ],
      "text/plain": [
       "                     customer_no  location     day  hour location_after\n",
       "timestamp                                                              \n",
       "2019-09-02 07:03:00            1     dairy  Monday     7          dairy\n",
       "2019-09-02 07:04:00            1     dairy  Monday     7       checkout\n",
       "2019-09-02 07:05:00            1  checkout  Monday     7       checkout\n",
       "2019-09-02 07:03:00            2     dairy  Monday     7          dairy\n",
       "2019-09-02 07:04:00            2     dairy  Monday     7          dairy\n",
       "...                          ...       ...     ...   ...            ...\n",
       "2019-09-06 21:48:00         7443     dairy  Friday    21          dairy\n",
       "2019-09-06 21:49:00         7443     dairy  Friday    21       checkout\n",
       "2019-09-06 21:50:00         7443  checkout  Friday    21       checkout\n",
       "2019-09-06 21:50:00         7444    drinks  Friday    21         spices\n",
       "2019-09-06 21:50:00         7445    spices  Friday    21            NaN\n",
       "\n",
       "[53903 rows x 5 columns]"
      ]
     },
     "execution_count": 33,
     "metadata": {},
     "output_type": "execute_result"
    }
   ],
   "source": [
    "d = pd.read_csv('./_data/customers_time_resampled.csv',  delimiter =',', index_col='timestamp',parse_dates=True)\n",
    "d = d.iloc[:,1:]\n",
    "d"
   ]
  },
  {
   "cell_type": "code",
   "execution_count": 39,
   "metadata": {},
   "outputs": [],
   "source": [
    "df = d.copy()\n",
    "df.rename(columns={'customer_no': 'cx_id', 'location_after':'next_loc'}, inplace=True)\n",
    "df = df.reset_index()"
   ]
  },
  {
   "cell_type": "code",
   "execution_count": 53,
   "metadata": {
    "scrolled": true
   },
   "outputs": [],
   "source": [
    "df['next_loc'] = df['location'].shift(-1)\n",
    "df['prev_loc'] = df['location'].shift(+1)"
   ]
  },
  {
   "cell_type": "code",
   "execution_count": 54,
   "metadata": {
    "collapsed": true
   },
   "outputs": [
    {
     "name": "stderr",
     "output_type": "stream",
     "text": [
      "<ipython-input-54-1775e2e437a9>:1: SettingWithCopyWarning: \n",
      "A value is trying to be set on a copy of a slice from a DataFrame\n",
      "\n",
      "See the caveats in the documentation: https://pandas.pydata.org/pandas-docs/stable/user_guide/indexing.html#returning-a-view-versus-a-copy\n",
      "  df['prev_loc'][0] = 'entrance'\n",
      "<ipython-input-54-1775e2e437a9>:2: SettingWithCopyWarning: \n",
      "A value is trying to be set on a copy of a slice from a DataFrame\n",
      "\n",
      "See the caveats in the documentation: https://pandas.pydata.org/pandas-docs/stable/user_guide/indexing.html#returning-a-view-versus-a-copy\n",
      "  df['next_loc'][len(df)-1] = 'checkout'\n",
      "<ipython-input-54-1775e2e437a9>:7: SettingWithCopyWarning: \n",
      "A value is trying to be set on a copy of a slice from a DataFrame\n",
      "\n",
      "See the caveats in the documentation: https://pandas.pydata.org/pandas-docs/stable/user_guide/indexing.html#returning-a-view-versus-a-copy\n",
      "  df['next_loc'][i] = 'LEFT'\n",
      "<ipython-input-54-1775e2e437a9>:9: SettingWithCopyWarning: \n",
      "A value is trying to be set on a copy of a slice from a DataFrame\n",
      "\n",
      "See the caveats in the documentation: https://pandas.pydata.org/pandas-docs/stable/user_guide/indexing.html#returning-a-view-versus-a-copy\n",
      "  df['next_loc'][i] = 'checkout'\n",
      "<ipython-input-54-1775e2e437a9>:14: SettingWithCopyWarning: \n",
      "A value is trying to be set on a copy of a slice from a DataFrame\n",
      "\n",
      "See the caveats in the documentation: https://pandas.pydata.org/pandas-docs/stable/user_guide/indexing.html#returning-a-view-versus-a-copy\n",
      "  df['prev_loc'][i] = 'entrance'\n"
     ]
    }
   ],
   "source": [
    "df['prev_loc'][0] = 'entrance'  \n",
    "df['next_loc'][len(df)-1] = 'checkout'\n",
    "\n",
    "for i in range(len(df)):\n",
    "\n",
    "    if df['location'][i] == 'checkout':\n",
    "        df['next_loc'][i] = 'LEFT'\n",
    "    elif i < len(df)-1 and df['cx_id'][i] != df['cx_id'][i+1] and df['location'][i] != 'checkout':\n",
    "        df['next_loc'][i] = 'checkout'\n",
    "\n",
    "for i in range(1,len(df)):\n",
    "    j=i-1\n",
    "    if df['cx_id'][i] != df['cx_id'][i-1] :\n",
    "        df['prev_loc'][i] = 'entrance'"
   ]
  },
  {
   "cell_type": "markdown",
   "metadata": {},
   "source": [
    "### Probability Matrices"
   ]
  },
  {
   "cell_type": "markdown",
   "metadata": {},
   "source": [
    "1. Transition Matrix "
   ]
  },
  {
   "cell_type": "code",
   "execution_count": 80,
   "metadata": {},
   "outputs": [
    {
     "data": {
      "text/html": [
       "<div>\n",
       "<style scoped>\n",
       "    .dataframe tbody tr th:only-of-type {\n",
       "        vertical-align: middle;\n",
       "    }\n",
       "\n",
       "    .dataframe tbody tr th {\n",
       "        vertical-align: top;\n",
       "    }\n",
       "\n",
       "    .dataframe thead th {\n",
       "        text-align: right;\n",
       "    }\n",
       "</style>\n",
       "<table border=\"1\" class=\"dataframe\">\n",
       "  <thead>\n",
       "    <tr style=\"text-align: right;\">\n",
       "      <th>next_loc</th>\n",
       "      <th>checkout</th>\n",
       "      <th>dairy</th>\n",
       "      <th>drinks</th>\n",
       "      <th>fruit</th>\n",
       "      <th>spices</th>\n",
       "    </tr>\n",
       "    <tr>\n",
       "      <th>location</th>\n",
       "      <th></th>\n",
       "      <th></th>\n",
       "      <th></th>\n",
       "      <th></th>\n",
       "      <th></th>\n",
       "    </tr>\n",
       "  </thead>\n",
       "  <tbody>\n",
       "    <tr>\n",
       "      <th>checkout</th>\n",
       "      <td>0.000000</td>\n",
       "      <td>0.000000</td>\n",
       "      <td>0.000000</td>\n",
       "      <td>0.000000</td>\n",
       "      <td>0.000000</td>\n",
       "    </tr>\n",
       "    <tr>\n",
       "      <th>dairy</th>\n",
       "      <td>0.103466</td>\n",
       "      <td>0.736750</td>\n",
       "      <td>0.058569</td>\n",
       "      <td>0.049848</td>\n",
       "      <td>0.051367</td>\n",
       "    </tr>\n",
       "    <tr>\n",
       "      <th>drinks</th>\n",
       "      <td>0.215710</td>\n",
       "      <td>0.010899</td>\n",
       "      <td>0.598499</td>\n",
       "      <td>0.087909</td>\n",
       "      <td>0.086983</td>\n",
       "    </tr>\n",
       "    <tr>\n",
       "      <th>fruit</th>\n",
       "      <td>0.201605</td>\n",
       "      <td>0.095924</td>\n",
       "      <td>0.054847</td>\n",
       "      <td>0.596947</td>\n",
       "      <td>0.050677</td>\n",
       "    </tr>\n",
       "    <tr>\n",
       "      <th>spices</th>\n",
       "      <td>0.150685</td>\n",
       "      <td>0.193214</td>\n",
       "      <td>0.163109</td>\n",
       "      <td>0.090953</td>\n",
       "      <td>0.402039</td>\n",
       "    </tr>\n",
       "  </tbody>\n",
       "</table>\n",
       "</div>"
      ],
      "text/plain": [
       "next_loc  checkout     dairy    drinks     fruit    spices\n",
       "location                                                  \n",
       "checkout  0.000000  0.000000  0.000000  0.000000  0.000000\n",
       "dairy     0.103466  0.736750  0.058569  0.049848  0.051367\n",
       "drinks    0.215710  0.010899  0.598499  0.087909  0.086983\n",
       "fruit     0.201605  0.095924  0.054847  0.596947  0.050677\n",
       "spices    0.150685  0.193214  0.163109  0.090953  0.402039"
      ]
     },
     "execution_count": 80,
     "metadata": {},
     "output_type": "execute_result"
    }
   ],
   "source": [
    "probs = dff.groupby('location')['next_loc'].value_counts(normalize=True).unstack().fillna(0).iloc[:,1:]\n",
    "probs"
   ]
  },
  {
   "cell_type": "markdown",
   "metadata": {},
   "source": [
    " "
   ]
  },
  {
   "cell_type": "markdown",
   "metadata": {},
   "source": [
    "2. Spawn Probs\n",
    "    - could still be improved by using only **first** locations, not all "
   ]
  },
  {
   "cell_type": "code",
   "execution_count": 131,
   "metadata": {},
   "outputs": [
    {
     "data": {
      "text/plain": [
       "dairy     0.382352\n",
       "fruit     0.273373\n",
       "drinks    0.209224\n",
       "spices    0.135051\n",
       "Name: location, dtype: float64"
      ]
     },
     "execution_count": 131,
     "metadata": {},
     "output_type": "execute_result"
    }
   ],
   "source": [
    "spawn_old = dff[dff['location']!='checkout']['location'].value_counts(normalize=True)#.unstack()#.fillna(0).iloc[:,1:]\n",
    "spawn_old"
   ]
  },
  {
   "cell_type": "markdown",
   "metadata": {},
   "source": [
    "---"
   ]
  },
  {
   "cell_type": "code",
   "execution_count": 226,
   "metadata": {},
   "outputs": [],
   "source": [
    "orig = pd.read_csv('./_data/whole_week_w_next_prev.csv', delimiter =',', index_col='timestamp',parse_dates=True).iloc[:,1:]\n"
   ]
  },
  {
   "cell_type": "code",
   "execution_count": 227,
   "metadata": {},
   "outputs": [
    {
     "data": {
      "text/plain": [
       "fruit     0.377435\n",
       "dairy     0.287576\n",
       "spices    0.181464\n",
       "drinks    0.153526\n",
       "Name: location, dtype: float64"
      ]
     },
     "execution_count": 227,
     "metadata": {},
     "output_type": "execute_result"
    }
   ],
   "source": [
    "spawn = orig[orig['prev_loc']=='entrance']['location'].value_counts(normalize=True)#.unstack()#.fillna(0).iloc[:,1:]\n",
    "spawn"
   ]
  },
  {
   "cell_type": "code",
   "execution_count": null,
   "metadata": {},
   "outputs": [],
   "source": []
  },
  {
   "cell_type": "code",
   "execution_count": 232,
   "metadata": {},
   "outputs": [],
   "source": [
    "orig['hour'] = orig.index.hour"
   ]
  },
  {
   "cell_type": "code",
   "execution_count": 251,
   "metadata": {},
   "outputs": [
    {
     "data": {
      "text/html": [
       "<div>\n",
       "<style scoped>\n",
       "    .dataframe tbody tr th:only-of-type {\n",
       "        vertical-align: middle;\n",
       "    }\n",
       "\n",
       "    .dataframe tbody tr th {\n",
       "        vertical-align: top;\n",
       "    }\n",
       "\n",
       "    .dataframe thead th {\n",
       "        text-align: right;\n",
       "    }\n",
       "</style>\n",
       "<table border=\"1\" class=\"dataframe\">\n",
       "  <thead>\n",
       "    <tr style=\"text-align: right;\">\n",
       "      <th>location</th>\n",
       "      <th>checkout</th>\n",
       "      <th>dairy</th>\n",
       "      <th>drinks</th>\n",
       "      <th>fruit</th>\n",
       "      <th>spices</th>\n",
       "      <th>row_sum</th>\n",
       "    </tr>\n",
       "    <tr>\n",
       "      <th>hour</th>\n",
       "      <th></th>\n",
       "      <th></th>\n",
       "      <th></th>\n",
       "      <th></th>\n",
       "      <th></th>\n",
       "      <th></th>\n",
       "    </tr>\n",
       "  </thead>\n",
       "  <tbody>\n",
       "    <tr>\n",
       "      <th>7</th>\n",
       "      <td>0.294041</td>\n",
       "      <td>0.178109</td>\n",
       "      <td>0.180052</td>\n",
       "      <td>0.193653</td>\n",
       "      <td>0.154145</td>\n",
       "      <td>1.0</td>\n",
       "    </tr>\n",
       "    <tr>\n",
       "      <th>8</th>\n",
       "      <td>0.295633</td>\n",
       "      <td>0.198690</td>\n",
       "      <td>0.151965</td>\n",
       "      <td>0.204367</td>\n",
       "      <td>0.149345</td>\n",
       "      <td>1.0</td>\n",
       "    </tr>\n",
       "    <tr>\n",
       "      <th>9</th>\n",
       "      <td>0.299342</td>\n",
       "      <td>0.191447</td>\n",
       "      <td>0.151974</td>\n",
       "      <td>0.221053</td>\n",
       "      <td>0.136184</td>\n",
       "      <td>1.0</td>\n",
       "    </tr>\n",
       "    <tr>\n",
       "      <th>10</th>\n",
       "      <td>0.298393</td>\n",
       "      <td>0.205451</td>\n",
       "      <td>0.138365</td>\n",
       "      <td>0.188679</td>\n",
       "      <td>0.169113</td>\n",
       "      <td>1.0</td>\n",
       "    </tr>\n",
       "    <tr>\n",
       "      <th>11</th>\n",
       "      <td>0.307831</td>\n",
       "      <td>0.189019</td>\n",
       "      <td>0.135014</td>\n",
       "      <td>0.219622</td>\n",
       "      <td>0.148515</td>\n",
       "      <td>1.0</td>\n",
       "    </tr>\n",
       "    <tr>\n",
       "      <th>12</th>\n",
       "      <td>0.306709</td>\n",
       "      <td>0.179712</td>\n",
       "      <td>0.150160</td>\n",
       "      <td>0.197284</td>\n",
       "      <td>0.166134</td>\n",
       "      <td>1.0</td>\n",
       "    </tr>\n",
       "    <tr>\n",
       "      <th>13</th>\n",
       "      <td>0.293044</td>\n",
       "      <td>0.193843</td>\n",
       "      <td>0.135690</td>\n",
       "      <td>0.221779</td>\n",
       "      <td>0.155644</td>\n",
       "      <td>1.0</td>\n",
       "    </tr>\n",
       "    <tr>\n",
       "      <th>14</th>\n",
       "      <td>0.300606</td>\n",
       "      <td>0.193333</td>\n",
       "      <td>0.138788</td>\n",
       "      <td>0.209091</td>\n",
       "      <td>0.158182</td>\n",
       "      <td>1.0</td>\n",
       "    </tr>\n",
       "    <tr>\n",
       "      <th>15</th>\n",
       "      <td>0.308614</td>\n",
       "      <td>0.174532</td>\n",
       "      <td>0.142322</td>\n",
       "      <td>0.236704</td>\n",
       "      <td>0.137828</td>\n",
       "      <td>1.0</td>\n",
       "    </tr>\n",
       "    <tr>\n",
       "      <th>16</th>\n",
       "      <td>0.297359</td>\n",
       "      <td>0.193456</td>\n",
       "      <td>0.156142</td>\n",
       "      <td>0.202641</td>\n",
       "      <td>0.150402</td>\n",
       "      <td>1.0</td>\n",
       "    </tr>\n",
       "    <tr>\n",
       "      <th>17</th>\n",
       "      <td>0.294336</td>\n",
       "      <td>0.190577</td>\n",
       "      <td>0.155638</td>\n",
       "      <td>0.217046</td>\n",
       "      <td>0.142403</td>\n",
       "      <td>1.0</td>\n",
       "    </tr>\n",
       "    <tr>\n",
       "      <th>18</th>\n",
       "      <td>0.284424</td>\n",
       "      <td>0.191874</td>\n",
       "      <td>0.162980</td>\n",
       "      <td>0.204515</td>\n",
       "      <td>0.156208</td>\n",
       "      <td>1.0</td>\n",
       "    </tr>\n",
       "    <tr>\n",
       "      <th>19</th>\n",
       "      <td>0.295152</td>\n",
       "      <td>0.182174</td>\n",
       "      <td>0.172400</td>\n",
       "      <td>0.198202</td>\n",
       "      <td>0.152072</td>\n",
       "      <td>1.0</td>\n",
       "    </tr>\n",
       "    <tr>\n",
       "      <th>20</th>\n",
       "      <td>0.297281</td>\n",
       "      <td>0.180060</td>\n",
       "      <td>0.185498</td>\n",
       "      <td>0.188520</td>\n",
       "      <td>0.148640</td>\n",
       "      <td>1.0</td>\n",
       "    </tr>\n",
       "    <tr>\n",
       "      <th>21</th>\n",
       "      <td>0.327605</td>\n",
       "      <td>0.162191</td>\n",
       "      <td>0.193340</td>\n",
       "      <td>0.185822</td>\n",
       "      <td>0.131042</td>\n",
       "      <td>1.0</td>\n",
       "    </tr>\n",
       "  </tbody>\n",
       "</table>\n",
       "</div>"
      ],
      "text/plain": [
       "location  checkout     dairy    drinks     fruit    spices  row_sum\n",
       "hour                                                               \n",
       "7         0.294041  0.178109  0.180052  0.193653  0.154145      1.0\n",
       "8         0.295633  0.198690  0.151965  0.204367  0.149345      1.0\n",
       "9         0.299342  0.191447  0.151974  0.221053  0.136184      1.0\n",
       "10        0.298393  0.205451  0.138365  0.188679  0.169113      1.0\n",
       "11        0.307831  0.189019  0.135014  0.219622  0.148515      1.0\n",
       "12        0.306709  0.179712  0.150160  0.197284  0.166134      1.0\n",
       "13        0.293044  0.193843  0.135690  0.221779  0.155644      1.0\n",
       "14        0.300606  0.193333  0.138788  0.209091  0.158182      1.0\n",
       "15        0.308614  0.174532  0.142322  0.236704  0.137828      1.0\n",
       "16        0.297359  0.193456  0.156142  0.202641  0.150402      1.0\n",
       "17        0.294336  0.190577  0.155638  0.217046  0.142403      1.0\n",
       "18        0.284424  0.191874  0.162980  0.204515  0.156208      1.0\n",
       "19        0.295152  0.182174  0.172400  0.198202  0.152072      1.0\n",
       "20        0.297281  0.180060  0.185498  0.188520  0.148640      1.0\n",
       "21        0.327605  0.162191  0.193340  0.185822  0.131042      1.0"
      ]
     },
     "execution_count": 251,
     "metadata": {},
     "output_type": "execute_result"
    }
   ],
   "source": [
    "time_probs = orig.groupby('hour')['location'].value_counts(normalize=True).unstack()\n",
    "#time_probs['row_sum'] = time_probs['checkout']+time_probs['dairy']+time_probs['drinks']+time_probs['fruit']+time_probs['spices']\n",
    "time_probs"
   ]
  },
  {
   "cell_type": "code",
   "execution_count": 244,
   "metadata": {},
   "outputs": [
    {
     "data": {
      "text/plain": [
       "<AxesSubplot:xlabel='hour'>"
      ]
     },
     "execution_count": 244,
     "metadata": {},
     "output_type": "execute_result"
    },
    {
     "data": {
      "image/png": "[encoded data removed]",
      "text/plain": [
       "<Figure size 864x432 with 1 Axes>"
      ]
     },
     "metadata": {
      "needs_background": "light"
     },
     "output_type": "display_data"
    }
   ],
   "source": [
    "orig.groupby('hour')['location'].value_counts(normalize=True).unstack().plot()"
   ]
  },
  {
   "cell_type": "code",
   "execution_count": null,
   "metadata": {},
   "outputs": [],
   "source": []
  },
  {
   "cell_type": "code",
   "execution_count": 229,
   "metadata": {
    "collapsed": true
   },
   "outputs": [
    {
     "ename": "TypeError",
     "evalue": "no numeric data to plot",
     "output_type": "error",
     "traceback": [
      "\u001b[0;31m---------------------------------------------------------------------------\u001b[0m",
      "\u001b[0;31mTypeError\u001b[0m                                 Traceback (most recent call last)",
      "\u001b[0;32m<ipython-input-229-534b8f1c224f>\u001b[0m in \u001b[0;36m<module>\u001b[0;34m\u001b[0m\n\u001b[0;32m----> 1\u001b[0;31m \u001b[0morig\u001b[0m\u001b[0;34m[\u001b[0m\u001b[0morig\u001b[0m\u001b[0;34m[\u001b[0m\u001b[0;34m'prev_loc'\u001b[0m\u001b[0;34m]\u001b[0m\u001b[0;34m==\u001b[0m\u001b[0;34m'entrance'\u001b[0m\u001b[0;34m]\u001b[0m\u001b[0;34m[\u001b[0m\u001b[0;34m'location'\u001b[0m\u001b[0;34m]\u001b[0m\u001b[0;34m.\u001b[0m\u001b[0mplot\u001b[0m\u001b[0;34m(\u001b[0m\u001b[0;34m)\u001b[0m\u001b[0;31m#.value_counts(normalize=True)\u001b[0m\u001b[0;34m\u001b[0m\u001b[0;34m\u001b[0m\u001b[0m\n\u001b[0m",
      "\u001b[0;32m~/anaconda3/lib/python3.8/site-packages/pandas/plotting/_core.py\u001b[0m in \u001b[0;36m__call__\u001b[0;34m(self, *args, **kwargs)\u001b[0m\n\u001b[1;32m    947\u001b[0m                     \u001b[0mdata\u001b[0m\u001b[0;34m.\u001b[0m\u001b[0mcolumns\u001b[0m \u001b[0;34m=\u001b[0m \u001b[0mlabel_name\u001b[0m\u001b[0;34m\u001b[0m\u001b[0;34m\u001b[0m\u001b[0m\n\u001b[1;32m    948\u001b[0m \u001b[0;34m\u001b[0m\u001b[0m\n\u001b[0;32m--> 949\u001b[0;31m         \u001b[0;32mreturn\u001b[0m \u001b[0mplot_backend\u001b[0m\u001b[0;34m.\u001b[0m\u001b[0mplot\u001b[0m\u001b[0;34m(\u001b[0m\u001b[0mdata\u001b[0m\u001b[0;34m,\u001b[0m \u001b[0mkind\u001b[0m\u001b[0;34m=\u001b[0m\u001b[0mkind\u001b[0m\u001b[0;34m,\u001b[0m \u001b[0;34m**\u001b[0m\u001b[0mkwargs\u001b[0m\u001b[0;34m)\u001b[0m\u001b[0;34m\u001b[0m\u001b[0;34m\u001b[0m\u001b[0m\n\u001b[0m\u001b[1;32m    950\u001b[0m \u001b[0;34m\u001b[0m\u001b[0m\n\u001b[1;32m    951\u001b[0m     \u001b[0m__call__\u001b[0m\u001b[0;34m.\u001b[0m\u001b[0m__doc__\u001b[0m \u001b[0;34m=\u001b[0m \u001b[0m__doc__\u001b[0m\u001b[0;34m\u001b[0m\u001b[0;34m\u001b[0m\u001b[0m\n",
      "\u001b[0;32m~/anaconda3/lib/python3.8/site-packages/pandas/plotting/_matplotlib/__init__.py\u001b[0m in \u001b[0;36mplot\u001b[0;34m(data, kind, **kwargs)\u001b[0m\n\u001b[1;32m     59\u001b[0m             \u001b[0mkwargs\u001b[0m\u001b[0;34m[\u001b[0m\u001b[0;34m\"ax\"\u001b[0m\u001b[0;34m]\u001b[0m \u001b[0;34m=\u001b[0m \u001b[0mgetattr\u001b[0m\u001b[0;34m(\u001b[0m\u001b[0max\u001b[0m\u001b[0;34m,\u001b[0m \u001b[0;34m\"left_ax\"\u001b[0m\u001b[0;34m,\u001b[0m \u001b[0max\u001b[0m\u001b[0;34m)\u001b[0m\u001b[0;34m\u001b[0m\u001b[0;34m\u001b[0m\u001b[0m\n\u001b[1;32m     60\u001b[0m     \u001b[0mplot_obj\u001b[0m \u001b[0;34m=\u001b[0m \u001b[0mPLOT_CLASSES\u001b[0m\u001b[0;34m[\u001b[0m\u001b[0mkind\u001b[0m\u001b[0;34m]\u001b[0m\u001b[0;34m(\u001b[0m\u001b[0mdata\u001b[0m\u001b[0;34m,\u001b[0m \u001b[0;34m**\u001b[0m\u001b[0mkwargs\u001b[0m\u001b[0;34m)\u001b[0m\u001b[0;34m\u001b[0m\u001b[0;34m\u001b[0m\u001b[0m\n\u001b[0;32m---> 61\u001b[0;31m     \u001b[0mplot_obj\u001b[0m\u001b[0;34m.\u001b[0m\u001b[0mgenerate\u001b[0m\u001b[0;34m(\u001b[0m\u001b[0;34m)\u001b[0m\u001b[0;34m\u001b[0m\u001b[0;34m\u001b[0m\u001b[0m\n\u001b[0m\u001b[1;32m     62\u001b[0m     \u001b[0mplot_obj\u001b[0m\u001b[0;34m.\u001b[0m\u001b[0mdraw\u001b[0m\u001b[0;34m(\u001b[0m\u001b[0;34m)\u001b[0m\u001b[0;34m\u001b[0m\u001b[0;34m\u001b[0m\u001b[0m\n\u001b[1;32m     63\u001b[0m     \u001b[0;32mreturn\u001b[0m \u001b[0mplot_obj\u001b[0m\u001b[0;34m.\u001b[0m\u001b[0mresult\u001b[0m\u001b[0;34m\u001b[0m\u001b[0;34m\u001b[0m\u001b[0m\n",
      "\u001b[0;32m~/anaconda3/lib/python3.8/site-packages/pandas/plotting/_matplotlib/core.py\u001b[0m in \u001b[0;36mgenerate\u001b[0;34m(self)\u001b[0m\n\u001b[1;32m    267\u001b[0m     \u001b[0;32mdef\u001b[0m \u001b[0mgenerate\u001b[0m\u001b[0;34m(\u001b[0m\u001b[0mself\u001b[0m\u001b[0;34m)\u001b[0m\u001b[0;34m:\u001b[0m\u001b[0;34m\u001b[0m\u001b[0;34m\u001b[0m\u001b[0m\n\u001b[1;32m    268\u001b[0m         \u001b[0mself\u001b[0m\u001b[0;34m.\u001b[0m\u001b[0m_args_adjust\u001b[0m\u001b[0;34m(\u001b[0m\u001b[0;34m)\u001b[0m\u001b[0;34m\u001b[0m\u001b[0;34m\u001b[0m\u001b[0m\n\u001b[0;32m--> 269\u001b[0;31m         \u001b[0mself\u001b[0m\u001b[0;34m.\u001b[0m\u001b[0m_compute_plot_data\u001b[0m\u001b[0;34m(\u001b[0m\u001b[0;34m)\u001b[0m\u001b[0;34m\u001b[0m\u001b[0;34m\u001b[0m\u001b[0m\n\u001b[0m\u001b[1;32m    270\u001b[0m         \u001b[0mself\u001b[0m\u001b[0;34m.\u001b[0m\u001b[0m_setup_subplots\u001b[0m\u001b[0;34m(\u001b[0m\u001b[0;34m)\u001b[0m\u001b[0;34m\u001b[0m\u001b[0;34m\u001b[0m\u001b[0m\n\u001b[1;32m    271\u001b[0m         \u001b[0mself\u001b[0m\u001b[0;34m.\u001b[0m\u001b[0m_make_plot\u001b[0m\u001b[0;34m(\u001b[0m\u001b[0;34m)\u001b[0m\u001b[0;34m\u001b[0m\u001b[0;34m\u001b[0m\u001b[0m\n",
      "\u001b[0;32m~/anaconda3/lib/python3.8/site-packages/pandas/plotting/_matplotlib/core.py\u001b[0m in \u001b[0;36m_compute_plot_data\u001b[0;34m(self)\u001b[0m\n\u001b[1;32m    416\u001b[0m         \u001b[0;31m# no non-numeric frames or series allowed\u001b[0m\u001b[0;34m\u001b[0m\u001b[0;34m\u001b[0m\u001b[0;34m\u001b[0m\u001b[0m\n\u001b[1;32m    417\u001b[0m         \u001b[0;32mif\u001b[0m \u001b[0mis_empty\u001b[0m\u001b[0;34m:\u001b[0m\u001b[0;34m\u001b[0m\u001b[0;34m\u001b[0m\u001b[0m\n\u001b[0;32m--> 418\u001b[0;31m             \u001b[0;32mraise\u001b[0m \u001b[0mTypeError\u001b[0m\u001b[0;34m(\u001b[0m\u001b[0;34m\"no numeric data to plot\"\u001b[0m\u001b[0;34m)\u001b[0m\u001b[0;34m\u001b[0m\u001b[0;34m\u001b[0m\u001b[0m\n\u001b[0m\u001b[1;32m    419\u001b[0m \u001b[0;34m\u001b[0m\u001b[0m\n\u001b[1;32m    420\u001b[0m         \u001b[0;31m# GH25587: cast ExtensionArray of pandas (IntegerArray, etc.) to\u001b[0m\u001b[0;34m\u001b[0m\u001b[0;34m\u001b[0m\u001b[0;34m\u001b[0m\u001b[0m\n",
      "\u001b[0;31mTypeError\u001b[0m: no numeric data to plot"
     ]
    }
   ],
   "source": [
    "orig[orig['prev_loc']=='entrance']['location'].plot()#.value_counts(normalize=True)"
   ]
  },
  {
   "cell_type": "markdown",
   "metadata": {},
   "source": [
    "---\n",
    "# Classes\n",
    "---"
   ]
  },
  {
   "cell_type": "code",
   "execution_count": null,
   "metadata": {},
   "outputs": [],
   "source": [
    "class Supermarket:\n",
    "    \n",
    "    def __init__(self, name):\n",
    "        \n",
    "        self.name = name\n",
    "        self.customers = []\n",
    "        self.locations = ['checkout', 'dairy', 'drinks', 'fruit', 'spices']\n",
    "        self.time = 0\n",
    "        \n",
    "        \n",
    "    def checkout_customer(self):\n",
    "        \n",
    "    \n",
    "    def progress_time(self):\n",
    "        if self.time < 840:\n",
    "            self.time += 1\n",
    "        \n",
    "    def checkin_customer(self):"
   ]
  },
  {
   "cell_type": "markdown",
   "metadata": {},
   "source": [
    "**Which \"objects\" do we have in our supermarket project?**\n",
    "\n",
    "- Customer\n",
    "    - attributes: `.location`, `.arrival_time`, `.departure_time`, `.total_time`, `.current_basket`\n",
    "    - methods: `.change_location()`, `.checkout()`\n",
    "    \n",
    "    "
   ]
  },
  {
   "cell_type": "code",
   "execution_count": null,
   "metadata": {},
   "outputs": [],
   "source": []
  },
  {
   "cell_type": "code",
   "execution_count": 205,
   "metadata": {},
   "outputs": [],
   "source": [
    "class Customer:\n",
    "    \n",
    "    def __init__(self, name):\n",
    "        \n",
    "        self.name = name\n",
    "        self.location = np.random.choice(['dairy','fruit','drinks','spices'], p=spawn)\n",
    "        self.probs = probs\n",
    "        self.possible_locations = ['checkout', 'dairy', 'drinks', 'fruit', 'spices']\n",
    "\n",
    "    def __repr__(self):\n",
    "        return self.name\n",
    "#        return f\"Customer {self.name} is in the {self.location} section.\"\n",
    "        \n",
    "    def change_location(self):\n",
    "        self.location = np.random.choice(self.possible_locations, p=self.probs.loc[self.location])\n",
    "        \n"
   ]
  },
  {
   "cell_type": "code",
   "execution_count": 236,
   "metadata": {},
   "outputs": [
    {
     "data": {
      "text/plain": [
       "[['dairy',\n",
       "  'fruit',\n",
       "  'fruit',\n",
       "  'drinks',\n",
       "  'drinks',\n",
       "  'drinks',\n",
       "  'drinks',\n",
       "  'drinks',\n",
       "  'checkout'],\n",
       " ['dairy',\n",
       "  'dairy',\n",
       "  'dairy',\n",
       "  'dairy',\n",
       "  'dairy',\n",
       "  'dairy',\n",
       "  'dairy',\n",
       "  'dairy',\n",
       "  'dairy',\n",
       "  'dairy',\n",
       "  'dairy',\n",
       "  'dairy',\n",
       "  'dairy',\n",
       "  'dairy',\n",
       "  'dairy',\n",
       "  'fruit',\n",
       "  'checkout'],\n",
       " ['drinks', 'checkout'],\n",
       " ['dairy', 'dairy', 'checkout'],\n",
       " ['dairy',\n",
       "  'dairy',\n",
       "  'dairy',\n",
       "  'dairy',\n",
       "  'dairy',\n",
       "  'dairy',\n",
       "  'fruit',\n",
       "  'fruit',\n",
       "  'checkout'],\n",
       " ['spices', 'spices', 'checkout'],\n",
       " ['dairy', 'dairy', 'dairy', 'dairy', 'dairy', 'dairy', 'dairy', 'checkout'],\n",
       " ['fruit',\n",
       "  'fruit',\n",
       "  'fruit',\n",
       "  'fruit',\n",
       "  'fruit',\n",
       "  'fruit',\n",
       "  'spices',\n",
       "  'fruit',\n",
       "  'drinks',\n",
       "  'spices',\n",
       "  'drinks',\n",
       "  'drinks',\n",
       "  'drinks',\n",
       "  'drinks',\n",
       "  'spices',\n",
       "  'fruit',\n",
       "  'fruit',\n",
       "  'fruit',\n",
       "  'fruit',\n",
       "  'dairy',\n",
       "  'dairy',\n",
       "  'dairy',\n",
       "  'dairy',\n",
       "  'drinks',\n",
       "  'checkout'],\n",
       " ['spices',\n",
       "  'fruit',\n",
       "  'fruit',\n",
       "  'spices',\n",
       "  'fruit',\n",
       "  'fruit',\n",
       "  'fruit',\n",
       "  'dairy',\n",
       "  'dairy',\n",
       "  'dairy',\n",
       "  'dairy',\n",
       "  'dairy',\n",
       "  'dairy',\n",
       "  'dairy',\n",
       "  'dairy',\n",
       "  'dairy',\n",
       "  'drinks',\n",
       "  'fruit',\n",
       "  'checkout'],\n",
       " ['fruit', 'fruit', 'checkout']]"
      ]
     },
     "execution_count": 236,
     "metadata": {},
     "output_type": "execute_result"
    }
   ],
   "source": [
    "customers = [Customer(f'{i}') for i in range(10)]\n",
    "cs = []\n",
    "for c in customers:\n",
    "#    print(c)\n",
    "    customer_journey = [c.location]\n",
    "\n",
    "    while c.location != 'checkout':\n",
    "        c.change_location()\n",
    "        customer_journey.append(c.location)\n",
    "#        print(c)\n",
    "    cs.append(customer_journey)\n",
    "cs"
   ]
  },
  {
   "cell_type": "code",
   "execution_count": null,
   "metadata": {},
   "outputs": [],
   "source": []
  }
 ],
 "metadata": {
  "kernelspec": {
   "display_name": "Python 3",
   "language": "python",
   "name": "python3"
  },
  "language_info": {
   "codemirror_mode": {
    "name": "ipython",
    "version": 3
   },
   "file_extension": ".py",
   "mimetype": "text/x-python",
   "name": "python",
   "nbconvert_exporter": "python",
   "pygments_lexer": "ipython3",
   "version": "3.8.5"
  }
 },
 "nbformat": 4,
 "nbformat_minor": 4
}
